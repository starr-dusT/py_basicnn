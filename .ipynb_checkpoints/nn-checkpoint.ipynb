{
 "cells": [
  {
   "cell_type": "code",
   "execution_count": 292,
   "metadata": {},
   "outputs": [],
   "source": [
    "from scipy.io import loadmat\n",
    "from scipy.optimize import minimize\n",
    "import numpy as np\n",
    "import py_nn as nn"
   ]
  },
  {
   "cell_type": "code",
   "execution_count": 279,
   "metadata": {},
   "outputs": [],
   "source": [
    "# training input: [m x n]\n",
    "# m = number of samples, n = number of features\n",
    "# truth output: [m x 1]\n",
    "# \n",
    "# Theta Layer 1: [n x hl]\n",
    "# hl = hidden layer size\n",
    "# Theta Layer 2: [hl x k]\n",
    "# k = units or bins in output\n",
    "#\n",
    "# neural net (1 hidden layer)"
   ]
  },
  {
   "cell_type": "code",
   "execution_count": 280,
   "metadata": {},
   "outputs": [],
   "source": [
    "m = 5000\n",
    "n = 400\n",
    "hl = 25\n",
    "k = 10"
   ]
  },
  {
   "cell_type": "code",
   "execution_count": 281,
   "metadata": {},
   "outputs": [],
   "source": [
    "dat = loadmat('ex4data1.mat')\n",
    "weight = loadmat('ex4weights.mat')\n",
    "# Fill inputs with random data for inital test (with one training example)\n",
    "x = dat['X']\n",
    "# Example training output\n",
    "y = dat['y']\n",
    "# Fill thetas with random numbers\n",
    "#Theta1 = np.random.rand(n+1,hl)\n",
    "#Theta2 = np.random.rand(hl+1,k)\n",
    "Theta1 = weight['Theta1']\n",
    "Theta2 = weight['Theta2']\n",
    "# Add regularization term\n",
    "reglambda = 1"
   ]
  },
  {
   "cell_type": "code",
   "execution_count": 282,
   "metadata": {},
   "outputs": [],
   "source": [
    "# Feed Forward\n",
    "def sigmoid(z):\n",
    "    return 1/(1 + np.exp(-z))\n",
    "\n",
    "a1 = np.append(np.ones((m,1)), x, axis=1)\n",
    "z2 = a1.dot(np.transpose(Theta1))\n",
    "a2 = np.append(np.ones((m,1)), sigmoid(z2), axis=1)\n",
    "z3 = a2.dot(np.transpose(Theta2))\n",
    "a3 = sigmoid(z3)"
   ]
  },
  {
   "cell_type": "code",
   "execution_count": 283,
   "metadata": {},
   "outputs": [],
   "source": [
    "# Bin number to vector form\n",
    "ymod = np.zeros((m,k))\n",
    "for i,row in enumerate(ymod):\n",
    "    ymod[i,:] = (np.linspace(1,k,k) == y[i])"
   ]
  },
  {
   "cell_type": "code",
   "execution_count": 284,
   "metadata": {},
   "outputs": [
    {
     "name": "stdout",
     "output_type": "stream",
     "text": [
      "0.38376985909092365\n"
     ]
    }
   ],
   "source": [
    "# Find cost without regularization\n",
    "J = (-1/m)*np.sum(y_mod*np.log(a3) + (1-y_mod)*np.log(1-a3))\n",
    "\n",
    "# Add in regularization\n",
    "regTheta1 = np.square(Theta1[:,1:])\n",
    "regTheta2 = np.square(Theta2[:,1:])\n",
    "J = J + (reglambda/(2*m))*np.sum(np.sum(regTheta1) + np.sum(regTheta2))\n",
    "print(J)"
   ]
  },
  {
   "cell_type": "code",
   "execution_count": 287,
   "metadata": {},
   "outputs": [],
   "source": [
    "# Implement Gradient\n",
    "Theta1_grad = np.zeros(Theta1.shape)\n",
    "Theta2_grad = np.zeros(Theta2.shape)\n",
    "for i in range(0,m):\n",
    "    a3i = a3[0,:]\n",
    "    a2i = a2[0,:]\n",
    "    a1i = a1[0,:]\n",
    "    ymodi = ymod[0,:]\n",
    "    z2i = np.append(1, z2[i,:])\n",
    "    delta3 = a3i - ymodi\n",
    "    delta2 = (np.transpose(Theta2).dot(delta3)*sigmoid(z2i))\n",
    "\n",
    "    delta3_re = delta3.reshape(delta3.shape[0],1)\n",
    "    z2i_re = z2i.reshape(z2i.shape[0],1)\n",
    "    Theta2_grad = Theta2_grad + delta3_re.dot(np.transpose(z2i_re))\n",
    "\n",
    "    delta2_re = delta2.reshape(delta2.shape[0],1)[1:]\n",
    "    a1i_re = a1i.reshape(a1i.shape[0],1)\n",
    "    Theta1_grad = Theta1_grad + delta2_re.dot(np.transpose(a1i_re))\n",
    "    \n",
    "Theta2_grad = (1/m)*Theta2_grad\n",
    "Theta1_grad = (1/m)*Theta1_grad\n",
    "Theta2_grad[:,1:] = Theta2_grad[:,1:] + (reglambda/m)*Theta2[:,1:]\n",
    "Theta1_grad[:,1:] = Theta1_grad[:,1:] + (reglambda/m)*Theta1[:,1:]"
   ]
  },
  {
   "cell_type": "code",
   "execution_count": 291,
   "metadata": {},
   "outputs": [
    {
     "ename": "AttributeError",
     "evalue": "module 'py_nn' has no attribute 'nnCostFunction'",
     "output_type": "error",
     "traceback": [
      "\u001b[0;31m---------------------------------------------------------------------------\u001b[0m",
      "\u001b[0;31mAttributeError\u001b[0m                            Traceback (most recent call last)",
      "\u001b[0;32m<ipython-input-291-afb4e9b99105>\u001b[0m in \u001b[0;36m<module>\u001b[0;34m\u001b[0m\n\u001b[1;32m      1\u001b[0m \u001b[0mnn_params\u001b[0m \u001b[0;34m=\u001b[0m \u001b[0mnp\u001b[0m\u001b[0;34m.\u001b[0m\u001b[0mconcatenate\u001b[0m\u001b[0;34m(\u001b[0m\u001b[0;34m(\u001b[0m\u001b[0mTheta1\u001b[0m\u001b[0;34m.\u001b[0m\u001b[0mreshape\u001b[0m\u001b[0;34m(\u001b[0m\u001b[0mTheta1\u001b[0m\u001b[0;34m.\u001b[0m\u001b[0msize\u001b[0m\u001b[0;34m,\u001b[0m \u001b[0morder\u001b[0m\u001b[0;34m=\u001b[0m\u001b[0;34m'F'\u001b[0m\u001b[0;34m)\u001b[0m\u001b[0;34m,\u001b[0m \u001b[0mTheta2\u001b[0m\u001b[0;34m.\u001b[0m\u001b[0mreshape\u001b[0m\u001b[0;34m(\u001b[0m\u001b[0mTheta2\u001b[0m\u001b[0;34m.\u001b[0m\u001b[0msize\u001b[0m\u001b[0;34m,\u001b[0m \u001b[0morder\u001b[0m\u001b[0;34m=\u001b[0m\u001b[0;34m'F'\u001b[0m\u001b[0;34m)\u001b[0m\u001b[0;34m)\u001b[0m\u001b[0;34m)\u001b[0m\u001b[0;34m\u001b[0m\u001b[0;34m\u001b[0m\u001b[0m\n\u001b[0;32m----> 2\u001b[0;31m \u001b[0mJ1\u001b[0m\u001b[0;34m,\u001b[0m \u001b[0mgrad1\u001b[0m \u001b[0;34m=\u001b[0m \u001b[0mnn\u001b[0m\u001b[0;34m.\u001b[0m\u001b[0mnnCostFunction\u001b[0m\u001b[0;34m(\u001b[0m\u001b[0mn\u001b[0m\u001b[0;34m,\u001b[0m \u001b[0mhl\u001b[0m\u001b[0;34m,\u001b[0m \u001b[0mk\u001b[0m\u001b[0;34m,\u001b[0m \u001b[0mx\u001b[0m\u001b[0;34m,\u001b[0m \u001b[0my\u001b[0m\u001b[0;34m,\u001b[0m \u001b[0mreglambda\u001b[0m\u001b[0;34m,\u001b[0m \u001b[0mnn_params\u001b[0m\u001b[0;34m)\u001b[0m\u001b[0;34m\u001b[0m\u001b[0;34m\u001b[0m\u001b[0m\n\u001b[0m",
      "\u001b[0;31mAttributeError\u001b[0m: module 'py_nn' has no attribute 'nnCostFunction'"
     ]
    }
   ],
   "source": [
    "nn_params = np.concatenate((Theta1.reshape(Theta1.size, order='F'), Theta2.reshape(Theta2.size, order='F')))\n",
    "J1, grad1 = nn.nnCostFunction(n, hl, k, x, y, reglambda, nn_params)"
   ]
  },
  {
   "cell_type": "code",
   "execution_count": null,
   "metadata": {},
   "outputs": [],
   "source": []
  },
  {
   "cell_type": "code",
   "execution_count": null,
   "metadata": {},
   "outputs": [],
   "source": []
  }
 ],
 "metadata": {
  "kernelspec": {
   "display_name": "Python 3",
   "language": "python",
   "name": "python3"
  },
  "language_info": {
   "codemirror_mode": {
    "name": "ipython",
    "version": 3
   },
   "file_extension": ".py",
   "mimetype": "text/x-python",
   "name": "python",
   "nbconvert_exporter": "python",
   "pygments_lexer": "ipython3",
   "version": "3.8.2"
  }
 },
 "nbformat": 4,
 "nbformat_minor": 4
}
